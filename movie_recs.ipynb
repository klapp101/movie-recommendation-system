{
 "cells": [
  {
   "cell_type": "markdown",
   "id": "abbb41bd-88ff-4fb2-a24f-d8b261d42f4e",
   "metadata": {},
   "source": [
    "### Importing dependencies"
   ]
  },
  {
   "cell_type": "code",
   "execution_count": 12,
   "id": "dba469a3-b6d7-40e6-8241-488f08de8849",
   "metadata": {},
   "outputs": [],
   "source": [
    "import numpy as np\n",
    "import pandas as pd\n",
    "import difflib # used to find closest match\n",
    "from sklearn.feature_extraction.text import TfidfVectorizer # used to convert text to feature vectors\n",
    "from sklearn.metrics.pairwise import cosine_similarity # gets similarity score"
   ]
  },
  {
   "cell_type": "markdown",
   "id": "f18f0ef7-c100-464a-a06a-13306f250efb",
   "metadata": {},
   "source": [
    "### Data Collection and Pre-Processing"
   ]
  },
  {
   "cell_type": "code",
   "execution_count": 20,
   "id": "87441563-c457-4b7e-a60e-f7d803b16de2",
   "metadata": {},
   "outputs": [],
   "source": [
    "movies_df = pd.read_csv('movies.csv')"
   ]
  },
  {
   "cell_type": "code",
   "execution_count": 21,
   "id": "87626a36-7b07-45f6-b4d5-e0d312a72877",
   "metadata": {},
   "outputs": [],
   "source": [
    "# feature selection\n",
    "selected_features = ['genres','keywords','tagline','cast','director']\n"
   ]
  },
  {
   "cell_type": "code",
   "execution_count": 22,
   "id": "1e2f9636-2828-4999-8d7b-1b64d0a80198",
   "metadata": {},
   "outputs": [],
   "source": [
    "# filling all null values in selected_features\n",
    "for feature in selected_features:\n",
    "    movies_df[feature] = movies_df[feature].fillna('')"
   ]
  },
  {
   "cell_type": "code",
   "execution_count": 23,
   "id": "8e0e39c6-b65f-43f8-9828-99eff984fde3",
   "metadata": {},
   "outputs": [],
   "source": [
    "# combining all selected_features\n",
    "combined_features = movies_df['genres'] + ' ' + movies_df['keywords'] + ' ' + movies_df['tagline'] + ' ' + movies_df['cast'] + ' ' + movies_df['director']\n",
    "\n",
    "\n"
   ]
  },
  {
   "cell_type": "code",
   "execution_count": 25,
   "id": "95dcf379-09f7-4537-b464-86854ff29d06",
   "metadata": {},
   "outputs": [],
   "source": [
    "# converting the text data to feature vectors\n",
    "vectorizer = TfidfVectorizer()"
   ]
  },
  {
   "cell_type": "code",
   "execution_count": 26,
   "id": "7ece5b58-92cd-4468-a2df-b21260f95f81",
   "metadata": {},
   "outputs": [],
   "source": [
    "# converting text to numerical values\n",
    "feature_vectors = vectorizer.fit_transform(combined_features)"
   ]
  },
  {
   "cell_type": "markdown",
   "id": "e61a7ff0-8eb7-470a-b96c-a1ff274deab8",
   "metadata": {},
   "source": [
    "### Cosine Similarity"
   ]
  },
  {
   "cell_type": "code",
   "execution_count": 89,
   "id": "21e66125-da4b-43ab-8459-e4582aa97acf",
   "metadata": {},
   "outputs": [],
   "source": [
    "# getting similarity score using cosine similarity - compares each movie to each other\n",
    "similarity = cosine_similarity(feature_vectors)"
   ]
  },
  {
   "cell_type": "code",
   "execution_count": 38,
   "id": "f64cf877-78aa-47dd-bc41-012f08200660",
   "metadata": {},
   "outputs": [
    {
     "name": "stdin",
     "output_type": "stream",
     "text": [
      "Enter the name of a movie:  Interstellar\n"
     ]
    }
   ],
   "source": [
    "# getting the movie name from the user\n",
    "movie_name = input('Enter the name of a movie: ')"
   ]
  },
  {
   "cell_type": "code",
   "execution_count": 42,
   "id": "542c1eeb-e209-48a6-8fc7-101e28017220",
   "metadata": {},
   "outputs": [],
   "source": [
    "# creating a list with all the movie names given in the dataset\n",
    "list_of_all_titles = movies_df['title'].tolist()"
   ]
  },
  {
   "cell_type": "code",
   "execution_count": 46,
   "id": "79365276-329f-4c6c-939a-2c3cce4e417b",
   "metadata": {},
   "outputs": [],
   "source": [
    "# finding the close match for the movie name given by the user\n",
    "find_close_match = difflib.get_close_matches(movie_name, list_of_all_titles)"
   ]
  },
  {
   "cell_type": "code",
   "execution_count": 49,
   "id": "b09e7839-0919-4fdc-b388-9cd6881a4bb8",
   "metadata": {},
   "outputs": [],
   "source": [
    "# closest match to user input\n",
    "closest_match = find_close_match[0]"
   ]
  },
  {
   "cell_type": "code",
   "execution_count": 59,
   "id": "4cee5742-a24d-49d5-a2f6-55edb71d0aa5",
   "metadata": {},
   "outputs": [],
   "source": [
    "# finding the index of the movie with title\n",
    "index_of_movie = movies_df[movies_df['title'] == closest_match]['index'].values[0]"
   ]
  },
  {
   "cell_type": "code",
   "execution_count": 93,
   "id": "efabb945-6066-4477-ab11-ccce23e1ddb7",
   "metadata": {},
   "outputs": [],
   "source": [
    "# getting a list of similar movies\n",
    "# find similarity score for all movies (enumerate)\n",
    "similarity_score = list(enumerate(similarity[index_of_movie]))"
   ]
  },
  {
   "cell_type": "code",
   "execution_count": 99,
   "id": "9a9c2517-59d8-4cf1-a41b-9c357276e714",
   "metadata": {},
   "outputs": [],
   "source": [
    "# sorting the movies based on similarity score\n",
    "# x[0] is index and x[1] is similarity score , basically sort on similarity score as opposed to index\n",
    "sorted_similar_movies = sorted(similarity_score,key = lambda x:x[1],reverse = True)"
   ]
  },
  {
   "cell_type": "code",
   "execution_count": 76,
   "id": "7e0d5979-1cae-4f44-83d3-74b2b7601891",
   "metadata": {
    "collapsed": true,
    "jupyter": {
     "outputs_hidden": true
    },
    "tags": []
   },
   "outputs": [
    {
     "name": "stdout",
     "output_type": "stream",
     "text": [
      "Movies suggested for you: \n",
      "\n",
      "1 . Interstellar\n",
      "2 . The Dark Knight Rises\n",
      "3 . The Matrix\n",
      "4 . The Martian\n",
      "5 . Dear Frankie\n",
      "6 . Argo\n",
      "7 . The Matrix Revolutions\n",
      "8 . The Matrix Reloaded\n",
      "9 . The Terminator\n",
      "10 . Armageddon\n",
      "11 . Terminator Genisys\n",
      "12 . Contact\n",
      "13 . Terminator Salvation\n",
      "14 . The Killer Inside Me\n",
      "15 . Gandhi, My Father\n",
      "16 . The Tree of Life\n",
      "17 . Get Smart\n",
      "18 . Back to the Future\n",
      "19 . Terminator 3: Rise of the Machines\n",
      "20 . The Prestige\n",
      "21 . Batman Begins\n",
      "22 . Dragonslayer\n",
      "23 . WarGames\n",
      "24 . Little Nicky\n",
      "25 . Superman III\n",
      "26 . The Other Side of Heaven\n",
      "27 . House at the End of the Street\n",
      "28 . Good Deeds\n",
      "29 . Mortal Kombat: Annihilation\n"
     ]
    }
   ],
   "source": [
    "# return name of similar movies based on index\n",
    "print('Movies suggested for you: \\n')\n",
    "i = 1\n",
    "for movie in sorted_similar_movies:\n",
    "    index = movie[0]\n",
    "    title_from_index = movies_df[movies_df['index'] == index]['title'].values[0]\n",
    "    if i < 30:\n",
    "        print(i, '.',title_from_index)\n",
    "        i += 1"
   ]
  },
  {
   "cell_type": "markdown",
   "id": "40dfcfb2-5047-4edd-ab6a-8740f2b977fb",
   "metadata": {},
   "source": [
    "### Movie Recommendation System - Combined"
   ]
  },
  {
   "cell_type": "code",
   "execution_count": 101,
   "id": "1a8b0843-1a31-4822-90b6-c50d203925d1",
   "metadata": {
    "tags": []
   },
   "outputs": [
    {
     "name": "stdin",
     "output_type": "stream",
     "text": [
      "Enter the name of a movie:  Wolf of Wall Street\n"
     ]
    },
    {
     "name": "stdout",
     "output_type": "stream",
     "text": [
      "Movies suggested for you: \n",
      "\n",
      "1 . The Wolf of Wall Street\n",
      "2 . The Departed\n",
      "3 . The Story of Us\n",
      "4 . Shutter Island\n",
      "5 . Gangs of New York\n",
      "6 . The Aviator\n",
      "7 . Focus\n",
      "8 . Super 8\n",
      "9 . Suicide Squad\n",
      "10 . 21 Jump Street\n",
      "11 . Sausage Party\n",
      "12 . The Last Waltz\n",
      "13 . Catch Me If You Can\n",
      "14 . The Legend of Tarzan\n",
      "15 . This Is the End\n",
      "16 . Alex & Emma\n",
      "17 . J. Edgar\n",
      "18 . Kinsey\n",
      "19 . Foolish\n",
      "20 . 22 Jump Street\n",
      "21 . A Few Good Men\n",
      "22 . I Heart Huckabees\n",
      "23 . Def Jam's How to Be a Player\n",
      "24 . The American President\n",
      "25 . Inception\n",
      "26 . Strange Wilderness\n",
      "27 . Moneyball\n",
      "28 . Down Terrace\n",
      "29 . Cyrus\n"
     ]
    }
   ],
   "source": [
    "movie_name = input('Enter the name of a movie: ')\n",
    "\n",
    "list_of_all_titles = movies_df['title'].tolist()\n",
    "\n",
    "find_close_match = difflib.get_close_matches(movie_name, list_of_all_titles)\n",
    "\n",
    "closest_match = find_close_match[0]\n",
    "\n",
    "index_of_movie = movies_df[movies_df['title'] == closest_match]['index'].values[0]\n",
    "\n",
    "similarity_score = list(enumerate(similarity[index_of_movie]))\n",
    "\n",
    "sorted_similar_movies = sorted(similarity_score,key = lambda x:x[1],reverse = True)\n",
    "\n",
    "print('Movies suggested for you: \\n')\n",
    "i = 1\n",
    "for movie in sorted_similar_movies:\n",
    "    index = movie[0]\n",
    "    title_from_index = movies_df[movies_df['index'] == index]['title'].values[0]\n",
    "    if i < 30:\n",
    "        print(i, '.',title_from_index)\n",
    "        i += 1"
   ]
  }
 ],
 "metadata": {
  "kernelspec": {
   "display_name": "Python 3",
   "language": "python",
   "name": "python3"
  },
  "language_info": {
   "codemirror_mode": {
    "name": "ipython",
    "version": 3
   },
   "file_extension": ".py",
   "mimetype": "text/x-python",
   "name": "python",
   "nbconvert_exporter": "python",
   "pygments_lexer": "ipython3",
   "version": "3.8.8"
  }
 },
 "nbformat": 4,
 "nbformat_minor": 5
}
